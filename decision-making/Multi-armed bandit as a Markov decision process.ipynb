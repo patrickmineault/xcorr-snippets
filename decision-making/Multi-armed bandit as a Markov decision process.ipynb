{
 "metadata": {
  "kernelspec": {
   "display_name": "Python 2",
   "language": "python",
   "name": "python2"
  },
  "language_info": {
   "codemirror_mode": {
    "name": "ipython",
    "version": 2
   },
   "file_extension": ".py",
   "mimetype": "text/x-python",
   "name": "python",
   "nbconvert_exporter": "python",
   "pygments_lexer": "ipython2",
   "version": "2.7.11"
  },
  "name": "",
  "signature": "sha256:b21bc7fec27aad27f792611692576f56ecb616fa58c22cb9b908f461ce529e1d"
 },
 "nbformat": 3,
 "nbformat_minor": 0,
 "worksheets": [
  {
   "cells": [
    {
     "cell_type": "code",
     "collapsed": false,
     "input": [
      "# Standard plotting setup\n",
      "%matplotlib inline\n",
      "import matplotlib.pyplot as plt\n",
      "from pylab import rcParams\n",
      "rcParams['figure.figsize'] = 10, 5\n",
      "plt.style.use('ggplot')"
     ],
     "language": "python",
     "metadata": {},
     "outputs": [],
     "prompt_number": 2
    },
    {
     "cell_type": "markdown",
     "metadata": {},
     "source": [
      "# Multi-armed bandit as a Markov decision process\n",
      "\n",
      "Let's model the Bernouilli multi-armed bandit. The Bernoulli MBA is an $N$-armed bandit where each arm gives binary rewards according to some probability:\n",
      "\n",
      "$r_i \\sim Bernouilli(\\mu_i)$ \n",
      "\n",
      "Here $i$ is the index of the arm. Let's model this as a Markov decision process. The state is going to be defined as:\n",
      "\n",
      "$s(t) = (\\alpha_1, \\beta_1, \\ldots, \\alpha_N, \\beta_N, r_t)$\n",
      "\n",
      "$\\alpha_i$ is the number of successes encountered so far when pulling arm $i$. $\\beta_i$ is, similarly, the number of failures encountered when pulling that arm. $r_t$ is the reward, either 0 or 1, from the last trial. \n",
      "\n",
      "Assuming a uniform prior on $\\mu_i$, the posterior distribution of the $\\mu_i$ in a given state are:\n",
      "\n",
      "$p(\\mu_i|s(t)) = Beta(\\alpha_i+1,\\beta_i+1)$\n",
      "\n",
      "When we're in a given state, we have the choice of performing one of $N$ actions, corresponding to pulling each of the arms. Let's call pulling the $i$'th arm $a_i$. This will put us in a new state, with a certain probability. The new state will be same for arms not equal to i. For the $i$'th arm, we have:\n",
      "\n",
      "$s(t+1) = (\\ldots \\alpha_i + 1, \\beta_i \\ldots 1)$ with probability $(\\alpha_i+1)/(\\alpha_i+\\beta_i+2)$\n",
      "\n",
      "$s(t+1) = (\\ldots \\alpha_i, \\beta_i + 1 \\ldots 0)$ with probability $(\\beta_i+1)/(\\alpha_i+\\beta_i+2)$\n",
      "\n",
      "We can solve exactly for this MDP, e.g. using value iteration, given that it's small enough. For $M$ trials, the state space is $M^{2N}$ - it's possible to solve the 2-armed bandit for 10-20 trials this way, but it grows exponentially fast."
     ]
    },
    {
     "cell_type": "code",
     "collapsed": false,
     "input": [
      "import itertools\n",
      "import numpy as np\n",
      "from pprint import pprint\n",
      "\n",
      "def sorted_values(dict_):\n",
      "    return [dict_[x] for x in sorted(dict_)]\n",
      "\n",
      "def solve_bmab_value_iteration(N_arms, M_trials, gamma=1,\n",
      "                               max_iter=10, conv_crit = .01):\n",
      "    util = {}\n",
      "    \n",
      "    # Initialize every state to utility 0.\n",
      "    state_ranges = [range(M_trials+1) for x in range(N_arms*2)]\n",
      "    # The reward state\n",
      "    state_ranges.append(range(2))\n",
      "    for state in itertools.product(*state_ranges):\n",
      "        # Some states are impossible to reach.\n",
      "        if sum(state[:-1]) > M_trials:\n",
      "            # A state with the total of alphas and betas greater than \n",
      "            # the number of trials.\n",
      "            continue\n",
      "            \n",
      "        if sum(state[:-1:2]) == 0 and state[-1] == 1:\n",
      "            # A state with a reward but alphas all equal to 0.\n",
      "            continue\n",
      "            \n",
      "        if sum(state[:-1:2]) == M_trials and state[-1] == 0:\n",
      "            # A state with no reward but alphas adding up to M_trials.\n",
      "            continue\n",
      "            \n",
      "        if sum(state[:-1]) == 1 and sum(state[:-1:2]) == 1 and state[-1] == 0:\n",
      "            # A state with an initial reward according to alphas but not according\n",
      "            # the reward index\n",
      "            continue\n",
      "            \n",
      "        util[state] = 0\n",
      "    \n",
      "    # Main loop.\n",
      "    converged = False\n",
      "    new_util = util.copy()\n",
      "    opt_actions = {}\n",
      "    for j in range(max_iter):\n",
      "        # Line 5 of value iteration\n",
      "        for state in util.keys():\n",
      "            reward = state[-1]\n",
      "            \n",
      "            # Terminal state.\n",
      "            if sum(state[:-1]) == M_trials:\n",
      "                new_util[state] = reward\n",
      "                continue\n",
      "            \n",
      "            values = np.zeros(N_arms)\n",
      "            \n",
      "            # Consider every action\n",
      "            for i in range(N_arms):\n",
      "                # Successes and failure for this state.\n",
      "                alpha = state[i*2]\n",
      "                beta  = state[i*2+1]\n",
      "                \n",
      "                # Two possible outcomes: either that arm gets rewarded,\n",
      "                # or not.\n",
      "                # Transition to unrewarded state:\n",
      "                state0 = list(state)\n",
      "                state0[-1] = 0\n",
      "                state0[2*i+1] += 1\n",
      "                state0 = tuple(state0)\n",
      "                \n",
      "                # The probability that we'll transition to this unrewarded state.\n",
      "                p_state0 = (beta + 1) / float(alpha + beta + 2)\n",
      "                \n",
      "                # Rewarded state.\n",
      "                state1 = list(state)\n",
      "                state1[-1] = 1\n",
      "                state1[2*i] += 1\n",
      "                state1 = tuple(state1)\n",
      "                \n",
      "                p_state1 = 1 - p_state0\n",
      "                try:\n",
      "                    value = gamma*(util[state0]*p_state0 + \n",
      "                                   util[state1]*p_state1)\n",
      "                except KeyError,e:\n",
      "                    print state\n",
      "                    print state0\n",
      "                    print state1\n",
      "                    raise e\n",
      "                    \n",
      "                #print state0, util[state0], p_state0\n",
      "                #print state1, util[state1], p_state1\n",
      "                values[i] = value\n",
      "                \n",
      "            #print state, values, reward\n",
      "            new_util[state] = reward + np.max(values)\n",
      "            opt_actions[state] = np.argmax(values)\n",
      "            \n",
      "        # Consider the difference between the new util\n",
      "        # and the old util.\n",
      "        max_diff = np.max(abs(np.array(sorted_values(util)) - np.array(sorted_values(new_util))))\n",
      "        util = new_util.copy()\n",
      "        \n",
      "        print \"Iteration %d, max diff = %.5f\" % (j, max_diff)\n",
      "        if max_diff < conv_crit:\n",
      "            converged = True\n",
      "            break\n",
      "            \n",
      "        #pprint(util)\n",
      "            \n",
      "    if converged:\n",
      "        print \"Converged after %d iterations\" % j\n",
      "    else:\n",
      "        print \"Not converged after %d iterations\" % max_iter\n",
      "        \n",
      "    return util, opt_actions\n",
      "\n",
      "util, opt_actions = solve_bmab_value_iteration(2, 2, max_iter=5)"
     ],
     "language": "python",
     "metadata": {},
     "outputs": [
      {
       "output_type": "stream",
       "stream": "stdout",
       "text": [
        "Iteration 0, max diff = 1.00000\n",
        "Iteration 1, max diff = 0.66667\n",
        "Iteration 2, max diff = 0.58333\n",
        "Iteration 3, max diff = 0.00000\n",
        "Converged after 3 iterations\n"
       ]
      }
     ],
     "prompt_number": 3
    },
    {
     "cell_type": "code",
     "collapsed": false,
     "input": [
      "opt_actions"
     ],
     "language": "python",
     "metadata": {},
     "outputs": [
      {
       "metadata": {},
       "output_type": "pyout",
       "prompt_number": 4,
       "text": [
        "{(0, 0, 0, 0, 0): 0,\n",
        " (0, 0, 0, 1, 0): 0,\n",
        " (0, 0, 1, 0, 1): 1,\n",
        " (0, 1, 0, 0, 0): 1,\n",
        " (1, 0, 0, 0, 1): 0}"
       ]
      }
     ],
     "prompt_number": 4
    },
    {
     "cell_type": "markdown",
     "metadata": {},
     "source": [
      "For the 2-armed, 2-trial Bernoulli bandit, the strategy is simple: pick the first arm. If it rewards, then pick it again. If not, pick the other. Note that this is the same as most sensible strategies, for instance greedy or UCB. "
     ]
    },
    {
     "cell_type": "code",
     "collapsed": false,
     "input": [
      "util"
     ],
     "language": "python",
     "metadata": {},
     "outputs": [
      {
       "metadata": {},
       "output_type": "pyout",
       "prompt_number": 5,
       "text": [
        "{(0, 0, 0, 0, 0): 1.0833333333333335,\n",
        " (0, 0, 0, 1, 0): 0.5,\n",
        " (0, 0, 0, 2, 0): 0,\n",
        " (0, 0, 1, 0, 1): 1.6666666666666667,\n",
        " (0, 0, 1, 1, 0): 0,\n",
        " (0, 0, 1, 1, 1): 1,\n",
        " (0, 0, 2, 0, 1): 1,\n",
        " (0, 1, 0, 0, 0): 0.5,\n",
        " (0, 1, 0, 1, 0): 0,\n",
        " (0, 1, 1, 0, 0): 0,\n",
        " (0, 1, 1, 0, 1): 1,\n",
        " (0, 2, 0, 0, 0): 0,\n",
        " (1, 0, 0, 0, 1): 1.6666666666666667,\n",
        " (1, 0, 0, 1, 0): 0,\n",
        " (1, 0, 0, 1, 1): 1,\n",
        " (1, 0, 1, 0, 1): 1,\n",
        " (1, 1, 0, 0, 0): 0,\n",
        " (1, 1, 0, 0, 1): 1,\n",
        " (2, 0, 0, 0, 1): 1}"
       ]
      }
     ],
     "prompt_number": 5
    },
    {
     "cell_type": "markdown",
     "metadata": {},
     "source": [
      "Note that the utility of the root node is 1.08 - what does that mean? If we get rewarded in the initial trial, that means that the posterior for the mean of that arm is .67. OTOH, when we fail on the first trial, we can still pick the other arm, which still has a posterior mean of .5. Thus, we have rewards:\n",
      "\n",
      "  * +2 with probability .5*2/3\n",
      "  * +1 with prob        .5*1/3\n",
      "  * +1 with prob        .5*.5\n",
      "  * +0 with prob .5*.5\n",
      "  \n",
      "That means the expected total reward is: "
     ]
    },
    {
     "cell_type": "code",
     "collapsed": false,
     "input": [
      "2*.5*2.0/3.0 + .5/3.0 + .5*.5"
     ],
     "language": "python",
     "metadata": {},
     "outputs": [
      {
       "metadata": {},
       "output_type": "pyout",
       "prompt_number": 28,
       "text": [
        "1.0833333333333333"
       ]
      }
     ],
     "prompt_number": 28
    },
    {
     "cell_type": "markdown",
     "metadata": {},
     "source": [
      "And that's what utility means in this context.\n",
      "Let's see about the 3-trial 2-armed bandit:"
     ]
    },
    {
     "cell_type": "code",
     "collapsed": false,
     "input": [
      "util, opt_actions = solve_bmab_value_iteration(2, 3, max_iter=5)\n",
      "opt_actions"
     ],
     "language": "python",
     "metadata": {},
     "outputs": [
      {
       "output_type": "stream",
       "stream": "stdout",
       "text": [
        "Iteration 0, max diff = 1.00000\n",
        "Iteration 1, max diff = 0.75000\n",
        "Iteration 2, max diff = 0.66667\n",
        "Iteration 3, max diff = 0.58333\n",
        "Iteration 4, max diff = 0.00000\n",
        "Converged after 4 iterations\n"
       ]
      },
      {
       "metadata": {},
       "output_type": "pyout",
       "prompt_number": 6,
       "text": [
        "{(0, 0, 0, 0, 0): 0,\n",
        " (0, 0, 0, 1, 0): 0,\n",
        " (0, 0, 0, 2, 0): 0,\n",
        " (0, 0, 1, 0, 1): 1,\n",
        " (0, 0, 1, 1, 0): 0,\n",
        " (0, 0, 1, 1, 1): 0,\n",
        " (0, 0, 2, 0, 0): 1,\n",
        " (0, 0, 2, 0, 1): 1,\n",
        " (0, 1, 0, 0, 0): 1,\n",
        " (0, 1, 0, 1, 0): 0,\n",
        " (0, 1, 1, 0, 0): 1,\n",
        " (0, 1, 1, 0, 1): 1,\n",
        " (0, 2, 0, 0, 0): 1,\n",
        " (1, 0, 0, 0, 1): 0,\n",
        " (1, 0, 0, 1, 0): 0,\n",
        " (1, 0, 0, 1, 1): 0,\n",
        " (1, 0, 1, 0, 0): 0,\n",
        " (1, 0, 1, 0, 1): 0,\n",
        " (1, 1, 0, 0, 0): 0,\n",
        " (1, 1, 0, 0, 1): 0,\n",
        " (2, 0, 0, 0, 0): 0,\n",
        " (2, 0, 0, 0, 1): 0}"
       ]
      }
     ],
     "prompt_number": 6
    },
    {
     "cell_type": "markdown",
     "metadata": {},
     "source": [
      "The optimal strategy goes: pick arm 0. If it rewards, pick it again for the next 2 trials.\n",
      "If it doesn't reward, then pick arm 1. If that rewards, keep that one. If it doesn't, pick 0 again.\n",
      "\n",
      "Let's see with 4:"
     ]
    },
    {
     "cell_type": "code",
     "collapsed": false,
     "input": [
      "util, opt_actions = solve_bmab_value_iteration(2, 4, max_iter=6)"
     ],
     "language": "python",
     "metadata": {},
     "outputs": [
      {
       "output_type": "stream",
       "stream": "stdout",
       "text": [
        "Iteration 0, max diff = 1.00000\n",
        "Iteration 1, max diff = 0.80000\n",
        "Iteration 2, max diff = 0.75000\n",
        "Iteration 3, max diff = 0.69444\n",
        "Iteration 4, max diff = 0.61111\n",
        "Iteration 5, max diff = 0.00000\n",
        "Converged after 5 iterations\n"
       ]
      }
     ],
     "prompt_number": 7
    },
    {
     "cell_type": "markdown",
     "metadata": {},
     "source": [
      "What's interesting here is that value iteration always converges in M_trials + 1 iterations - information only travels backwards through time - much as in Viterbi in the context of HMMs. If we're only interested in the next best action given the current state, it might be possible to iterate backwards through time, starting from the terminal states, throwing away the latest data as we go along. Before we get into premature optimization, however, let's see how far we can look ahead without crashing with Chromebook."
     ]
    },
    {
     "cell_type": "code",
     "collapsed": false,
     "input": [
      "M_trials = 16\n",
      "%time util, opt_actions = solve_bmab_value_iteration(2, M_trials, max_iter=M_trials+2)"
     ],
     "language": "python",
     "metadata": {},
     "outputs": [
      {
       "output_type": "stream",
       "stream": "stdout",
       "text": [
        "Iteration 0, max diff = 1.00000\n",
        "Iteration 1, max diff = 0.94118"
       ]
      },
      {
       "output_type": "stream",
       "stream": "stdout",
       "text": [
        "\n",
        "Iteration 2, max diff = 0.93750"
       ]
      },
      {
       "output_type": "stream",
       "stream": "stdout",
       "text": [
        "\n",
        "Iteration 3, max diff = 0.93333"
       ]
      },
      {
       "output_type": "stream",
       "stream": "stdout",
       "text": [
        "\n",
        "Iteration 4, max diff = 0.92857"
       ]
      },
      {
       "output_type": "stream",
       "stream": "stdout",
       "text": [
        "\n",
        "Iteration 5, max diff = 0.92308"
       ]
      },
      {
       "output_type": "stream",
       "stream": "stdout",
       "text": [
        "\n",
        "Iteration 6, max diff = 0.91667"
       ]
      },
      {
       "output_type": "stream",
       "stream": "stdout",
       "text": [
        "\n",
        "Iteration 7, max diff = 0.90909"
       ]
      },
      {
       "output_type": "stream",
       "stream": "stdout",
       "text": [
        "\n",
        "Iteration 8, max diff = 0.90000"
       ]
      },
      {
       "output_type": "stream",
       "stream": "stdout",
       "text": [
        "\n",
        "Iteration 9, max diff = 0.88896"
       ]
      },
      {
       "output_type": "stream",
       "stream": "stdout",
       "text": [
        "\n",
        "Iteration 10, max diff = 0.87550"
       ]
      },
      {
       "output_type": "stream",
       "stream": "stdout",
       "text": [
        "\n",
        "Iteration 11, max diff = 0.85897"
       ]
      },
      {
       "output_type": "stream",
       "stream": "stdout",
       "text": [
        "\n",
        "Iteration 12, max diff = 0.83861"
       ]
      },
      {
       "output_type": "stream",
       "stream": "stdout",
       "text": [
        "\n",
        "Iteration 13, max diff = 0.81231"
       ]
      },
      {
       "output_type": "stream",
       "stream": "stdout",
       "text": [
        "\n",
        "Iteration 14, max diff = 0.77726"
       ]
      },
      {
       "output_type": "stream",
       "stream": "stdout",
       "text": [
        "\n",
        "Iteration 15, max diff = 0.72543"
       ]
      },
      {
       "output_type": "stream",
       "stream": "stdout",
       "text": [
        "\n",
        "Iteration 16, max diff = 0.64213"
       ]
      },
      {
       "output_type": "stream",
       "stream": "stdout",
       "text": [
        "\n",
        "Iteration 17, max diff = 0.00000"
       ]
      },
      {
       "output_type": "stream",
       "stream": "stdout",
       "text": [
        "\n",
        "Converged after 17 iterations\n",
        "CPU times: user 9.89 s, sys: 21 ms, total: 9.92 s\n",
        "Wall time: 10.2 s\n"
       ]
      }
     ],
     "prompt_number": 8
    },
    {
     "cell_type": "code",
     "collapsed": false,
     "input": [
      "M_trials\n",
      "bad_keys = [k for k in opt_actions.keys() if sum(k[:-1]) > 15]\n",
      "assert(len(bad_keys) == 0)"
     ],
     "language": "python",
     "metadata": {},
     "outputs": [],
     "prompt_number": 9
    },
    {
     "cell_type": "markdown",
     "metadata": {},
     "source": [
      "It seems like my Chromebook can look ahead at least sixteen steps into the future without dying - pretty good!"
     ]
    },
    {
     "cell_type": "markdown",
     "metadata": {},
     "source": [
      "# Optimal versus UCB\n",
      "\n",
      "Let's try and figure out how the optimal strategy relates to the upper confidence bound heuristic. Let's train a logistic regression model with the same inputs as a UCB strategy - mean, standard deviation, time - and see how well it can approximate the optimal strategy."
     ]
    },
    {
     "cell_type": "code",
     "collapsed": false,
     "input": [
      "# Create a design matrix related to the optimal strategies.\n",
      "X = []\n",
      "y = []\n",
      "seen_keys = {}\n",
      "for key, val in opt_actions.iteritems():\n",
      "    if key[:-1] in seen_keys:\n",
      "        # We've already seen this, continue.\n",
      "        continue\n",
      "        \n",
      "    alpha0 = float(key[0] + 1)\n",
      "    beta0  = float(key[1] + 1)\n",
      "    alpha1 = float(key[2] + 1)\n",
      "    beta1  = float(key[3] + 1)\n",
      "    \n",
      "    if alpha0 == alpha1 and beta0 == beta1:\n",
      "        # We're in a perfectly symmetric situtation, skip this then.\n",
      "        continue\n",
      "        \n",
      "    seen_keys = key[:-1]\n",
      "    \n",
      "    # Standard results for the Beta distribution.\n",
      "    # https://en.wikipedia.org/wiki/Beta_distribution\n",
      "    mean0 = alpha0/(alpha0 + beta0)\n",
      "    mean1 = alpha1/(alpha1 + beta1)\n",
      "    \n",
      "    std0  = np.sqrt(alpha0*beta0 / (alpha0 + beta0 + 1)) / (alpha0 + beta0)\n",
      "    std1  = np.sqrt(alpha1*beta1 / (alpha1 + beta1 + 1)) / (alpha1 + beta1)\n",
      "    \n",
      "    t = alpha0 + beta0 + alpha1 + beta1\n",
      "    X.append([mean0,mean1,std0,std1,t,1,alpha0 - 1,beta0 - 1,alpha1 - 1,beta1 - 1])\n",
      "    y.append(val)\n",
      "    \n",
      "X = np.array(X)\n",
      "y = np.array(y)"
     ],
     "language": "python",
     "metadata": {},
     "outputs": [],
     "prompt_number": 10
    },
    {
     "cell_type": "markdown",
     "metadata": {},
     "source": [
      "Let's train a supervised network a see how well it can predict the correct move based on a purely greedy heuristic - and based on a heuristic which takes into account the uncertainty in the estimate."
     ]
    },
    {
     "cell_type": "code",
     "collapsed": false,
     "input": [
      "from sklearn.linear_model import LogisticRegression\n",
      "\n",
      "the_model = LogisticRegression(C=100.0)\n",
      "X_ = X[:,:2]\n",
      "the_model.fit(X_,y)\n",
      "y_pred = the_model.predict(X_)\n",
      "\n",
      "print (\"Greedy: %.4f%% of moves are incorrect\" % ((np.mean(abs(y_pred-y)))*100))\n",
      "print the_model.coef_\n",
      "\n",
      "the_model = LogisticRegression(C=100.0)\n",
      "X_ = X[:,:4]\n",
      "the_model.fit(X_,y)\n",
      "y_pred = the_model.predict(X_)\n",
      "\n",
      "print (\"UCB: %.4f%% of moves are incorrect\" % ((np.mean(abs(y_pred-y)))*100))\n",
      "print the_model.coef_\n",
      "\n",
      "the_model = LogisticRegression(C=100000.0)\n",
      "X_ = X[:,:4]\n",
      "X_ = np.hstack((X_,(X[:,4]).reshape((-1,1))*X[:,2:4]))\n",
      "the_model.fit(X_,y)\n",
      "y_pred = the_model.predict(X_)\n",
      "\n",
      "print (\"UCB X time: %.4f%% of moves are incorrect\" % ((np.mean(abs(y_pred-y)))*100))\n",
      "print the_model.coef_"
     ],
     "language": "python",
     "metadata": {},
     "outputs": [
      {
       "output_type": "stream",
       "stream": "stdout",
       "text": [
        "Greedy: 2.9669% of moves are incorrect\n",
        "[[-38.98482874  38.98567838]]\n",
        "UCB: 1.8013% of moves are incorrect"
       ]
      },
      {
       "output_type": "stream",
       "stream": "stdout",
       "text": [
        "\n",
        "[[-57.73453836  57.73453317 -29.49326918  29.49299601]]\n",
        "UCB X time: 0.5298% of moves are incorrect"
       ]
      },
      {
       "output_type": "stream",
       "stream": "stdout",
       "text": [
        "\n",
        "[[-201.97514467  201.97538323 -496.78194952  496.77733617   24.26601785\n",
        "   -24.26590183]]\n"
       ]
      }
     ],
     "prompt_number": 11
    },
    {
     "cell_type": "markdown",
     "metadata": {},
     "source": [
      "We see that the greedy strategy misses the right move 3% of the time, while UCB shaves that down to 1.8%. Pretty significant. The UCB parameter - a parameter which determines how much \"bonus\" should be given to uncertainty - is suspiciously low at (29.49 / 57.7 ~= .5). In the literature, people use something around 2-3. \n",
      "\n",
      "Adding a parameter which is the cross of time and the standard deviation of the estimate reveals the source of this discrepancy: at the initial time point, the UCB parameter is high (496.7 / 201 ~ 2.5) and it ramps down linearly as a function of time to (496 - 26.26*16) / 200 ~= 0.4. Thus, the optimal strategy is similar to a UCB strategy, with a twist: the exploration bonus should ramp down as a function of time. This makes sense: new information is more valuable in the initial trials. \n",
      "\n",
      "This UCB X time strategy misses only .5% of moves, which is quite good, all things considered."
     ]
    },
    {
     "cell_type": "markdown",
     "metadata": {},
     "source": [
      "# Monte Carlo Tree Search\n",
      "\n",
      "The dynamic programming approach is of theoretical interest, but it doesn't scale well to other kinds of problems, like contextual bandits, problems with continuous-valued rewards, or problems with larger state spaces. Rather than exhaustively determining the outcome of every path, we can sample outcomes at random. Let's start by implement vanilla MCTS, where actions at every junction are sampled uniformly. We'll later upgrade to UCT. "
     ]
    },
    {
     "cell_type": "code",
     "collapsed": false,
     "input": [
      "import collections\n",
      "\n",
      "class VanillaMCTS:\n",
      "    \n",
      "    def __init__(self, N_arms, M_trials, stochastic_rewards = True):\n",
      "        self.N_arms = N_arms\n",
      "        self.M_trials = M_trials\n",
      "        self.stochastic_rewards = stochastic_rewards\n",
      "        self.state_action_reward = collections.defaultdict(int)\n",
      "        self.state_action_visit  = collections.defaultdict(int)\n",
      "        \n",
      "        \n",
      "    def find_best_action(self,\n",
      "                         current_state, \n",
      "                         max_horizon = 10,\n",
      "                         max_samples = 100):\n",
      "        max_depth = min(self.M_trials - sum(current_state[::-1]), max_horizon)\n",
      "        for n in range(max_samples):\n",
      "            self.mcts_search(current_state, max_depth)\n",
      "            \n",
      "        state_rewards = [(self.state_action_reward[state_action] / \n",
      "                         float(self.state_action_visit[state_action]),state_action) for \n",
      "                         state_action in self.state_action_reward.keys() if\n",
      "                         state_action[0] == current_state]\n",
      "        \n",
      "        max_reward, best_state_action = max(state_rewards)\n",
      "        _, best_action = best_state_action\n",
      "        return max_reward, best_action, state_rewards\n",
      "\n",
      "    def mcts_search(self, state, max_depth):\n",
      "        if max_depth == 0:\n",
      "            return 0\n",
      "        \n",
      "        # Select an action\n",
      "        action = self.select_action(state)\n",
      "        \n",
      "        # Pull that arm\n",
      "        next_state, expected_reward = self.perform_action(state, action)\n",
      "        \n",
      "        if self.stochastic_rewards:\n",
      "            r = next_state[-1]\n",
      "        else:\n",
      "            r = expected_reward\n",
      "        \n",
      "        reward = self.mcts_search(next_state, max_depth - 1) + r\n",
      "        \n",
      "        # Memo-ize\n",
      "        state_action = (state,action)\n",
      "        self.state_action_reward[state_action] += reward\n",
      "        self.state_action_visit[state_action] += 1\n",
      "        \n",
      "        return reward\n",
      "        \n",
      "    def perform_action(self, state, action):\n",
      "        # Pull the arm in question; only valid for Bernouilli arm\n",
      "        alpha = state[action*2]\n",
      "        beta = state[action*2 + 1]\n",
      "        \n",
      "        expected_reward = (alpha + 1)/float(alpha + beta + 2)\n",
      "        \n",
      "        rewarded = np.random.rand() < expected_reward\n",
      "        \n",
      "        state = list(state)\n",
      "        if rewarded:\n",
      "            state[action*2] += 1\n",
      "            state[-1] = 1\n",
      "        else:\n",
      "            state[action*2+1] += 1\n",
      "            state[-1] = 0\n",
      "            \n",
      "        return (tuple(state), expected_reward)\n",
      "    \n",
      "    def select_action(self, state):\n",
      "        # Select uniformily at random\n",
      "        return int(np.random.rand() * (len(state) / 2))"
     ],
     "language": "python",
     "metadata": {},
     "outputs": []
    },
    {
     "cell_type": "code",
     "collapsed": false,
     "input": [
      "# Action 1 is better both from an exploration and an exploitation\n",
      "# perspective, but not by that much\n",
      "ambiguous_state = (2,2,2,1,0)\n",
      "\n",
      "ndraws = 10\n",
      "nsims_per = 1000\n",
      "best_actions = np.zeros((nsims_per,ndraws,2))\n",
      "max_rewards = np.zeros((nsims_per,2))\n",
      "\n",
      "for k,stochastic_rewards in enumerate([False, True]):\n",
      "    for j in range(ndraws):\n",
      "        mcts = VanillaMCTS(2, 16, stochastic_rewards = stochastic_rewards)\n",
      "\n",
      "        for i in range(nsims_per):\n",
      "            _, best_action, state_reward = mcts.find_best_action(ambiguous_state, max_samples = 1)\n",
      "            best_actions[i,j,k] = best_action\n",
      "            \n",
      "plt.subplot(121)\n",
      "plt.plot(best_actions[:,:,0].mean(1))\n",
      "plt.xlabel('# draws')\n",
      "plt.ylabel('p(picking) right arm after N draws')\n",
      "plt.ylim([0,1])\n",
      "plt.title('deterministic rewards')\n",
      "plt.subplot(122)\n",
      "plt.plot(best_actions[:,:,1].mean(1))\n",
      "plt.xlabel('#draws')\n",
      "plt.title('stochastic rewards')\n",
      "plt.ylim([0,1])"
     ],
     "language": "python",
     "metadata": {},
     "outputs": [
      {
       "metadata": {},
       "output_type": "pyout",
       "prompt_number": 32,
       "text": [
        "(0, 1)"
       ]
      },
      {
       "metadata": {},
       "output_type": "display_data",
       "png": "[encoded data removed]",
       "text": [
        "<matplotlib.figure.Figure at 0x7fab7eb021d0>"
       ]
      }
     ],
     "prompt_number": 32
    },
    {
     "cell_type": "markdown",
     "metadata": {},
     "source": [
      "Generally, the probability of picking the right arm increases with the number of draws -- but it still takes several hundred trials to pick the right arm consistently, despite the fact that we're simulating a rather large difference. This gets better if we return deterministic rewards rather than stochastic. Let's see what happens with a harder case:"
     ]
    },
    {
     "cell_type": "code",
     "collapsed": false,
     "input": [
      "# Action 1 is better only from an exploitation perspective\n",
      "ambiguous_state = (2,2,1,1,0)\n",
      "\n",
      "ndraws = 10\n",
      "nsims_per = 10000\n",
      "best_actions = np.zeros((nsims_per,ndraws,2))\n",
      "max_rewards = np.zeros((nsims_per,2))\n",
      "\n",
      "for k,stochastic_rewards in enumerate([False, True]):\n",
      "    for j in range(ndraws):\n",
      "        mcts = VanillaMCTS(2, 16, stochastic_rewards = stochastic_rewards)\n",
      "\n",
      "        for i in range(nsims_per):\n",
      "            _, best_action, state_reward = mcts.find_best_action(ambiguous_state, max_samples = 1)\n",
      "            best_actions[i,j,k] = best_action\n",
      "            \n",
      "plt.subplot(121)\n",
      "plt.plot(best_actions[:,:,0].mean(1))\n",
      "plt.xlabel('# draws')\n",
      "plt.ylabel('p(picking) right arm after N draws')\n",
      "plt.ylim([0,1])\n",
      "plt.title('deterministic rewards')\n",
      "plt.subplot(122)\n",
      "plt.plot(best_actions[:,:,1].mean(1))\n",
      "plt.xlabel('#draws')\n",
      "plt.title('stochastic rewards')\n",
      "plt.ylim([0,1])"
     ],
     "language": "python",
     "metadata": {},
     "outputs": [
      {
       "metadata": {},
       "output_type": "pyout",
       "prompt_number": 33,
       "text": [
        "(0, 1)"
       ]
      },
      {
       "metadata": {},
       "output_type": "display_data",
       "png": "[encoded data removed]",
       "text": [
        "<matplotlib.figure.Figure at 0x7fab7ef89c50>"
       ]
      }
     ],
     "prompt_number": 33
    },
    {
     "cell_type": "markdown",
     "metadata": {},
     "source": [
      "In this case, the method does not converge to the correct action -- subsequent actions to the first are selected uniformily -- the method answers the question, which action should I pick next, if I picking actions at random later? The answer, in this case, is that it doesn't matter"
     ]
    },
    {
     "cell_type": "markdown",
     "metadata": {},
     "source": [
      "#UCT - Upper confidence tree"
     ]
    },
    {
     "cell_type": "code",
     "collapsed": false,
     "input": [
      "%matplotlib inline\n",
      "import matplotlib.pyplot as plt\n",
      "\n",
      "plt.subplot(121)\n",
      "plt.plot(max_rewards)\n",
      "plt.subplot(122)\n",
      "plt.plot(best_actions)\n",
      "\n",
      "best_actions"
     ],
     "language": "python",
     "metadata": {},
     "outputs": [
      {
       "metadata": {},
       "output_type": "pyout",
       "prompt_number": 184,
       "text": [
        "array([[ 0.,  1.,  1., ...,  0.,  0.,  0.],\n",
        "       [ 0.,  1.,  1., ...,  0.,  0.,  0.],\n",
        "       [ 0.,  1.,  1., ...,  0.,  1.,  1.],\n",
        "       ..., \n",
        "       [ 1.,  0.,  1., ...,  0.,  0.,  0.],\n",
        "       [ 1.,  0.,  1., ...,  0.,  0.,  0.],\n",
        "       [ 1.,  0.,  1., ...,  0.,  0.,  0.]])"
       ]
      },
      {
       "metadata": {},
       "output_type": "display_data",
       "png": "[encoded data removed]",
       "text": [
        "<matplotlib.figure.Figure at 0x7f7bcf7cadd0>"
       ]
      }
     ],
     "prompt_number": 184
    },
    {
     "cell_type": "markdown",
     "metadata": {},
     "source": [
      "instead focus on the most promising paths. Let's do this via MCTS - the initial value of a branch is going to be set as the expected outcome plus an exploration bonus, and after the horizon of the tree search is reached, the path will be scored by its mean value. We'll compare this to a UCB strategy."
     ]
    },
    {
     "cell_type": "code",
     "collapsed": false,
     "input": [
      "max_reward\n",
      "best_action"
     ],
     "language": "python",
     "metadata": {},
     "outputs": [
      {
       "metadata": {},
       "output_type": "pyout",
       "prompt_number": 119,
       "text": [
        "1"
       ]
      }
     ],
     "prompt_number": 119
    },
    {
     "cell_type": "code",
     "collapsed": false,
     "input": [
      "# Find a case where the greedy strategy is incorrect\n",
      "the_model = LogisticRegression(C=100.0)\n",
      "X_ = X[:,:2]\n",
      "the_model.fit(X_,y)\n",
      "y_pred = the_model.predict(X_)\n",
      "\n",
      "print X[np.where(y_pred != y)[0][0],:]\n"
     ],
     "language": "python",
     "metadata": {},
     "outputs": []
    },
    {
     "cell_type": "markdown",
     "metadata": {},
     "source": [
      "#TODO"
     ]
    },
    {
     "cell_type": "markdown",
     "metadata": {},
     "source": [
      "A few things to try:\n",
      "\n",
      "  - Find a more efficient way of implement value iteration - can we throw away the later data once we've backpropagated the future? Can we look into the far future in this way?\n",
      "  - How good is a strategy that is myopic, that is, only looks at a few steps in advance?\n",
      "  - What does policy iteration look like in this context?\n",
      "  - How does this all compare to MCTS?\n",
      "  "
     ]
    }
   ],
   "metadata": {}
  }
 ]
}